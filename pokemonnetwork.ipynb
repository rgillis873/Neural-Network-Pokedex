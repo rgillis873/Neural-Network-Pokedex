{
  "cells": [
    {
      "cell_type": "code",
      "execution_count": null,
      "metadata": {
        "colab": {
          "base_uri": "https://localhost:8080/"
        },
        "id": "zTKOXg789unc",
        "outputId": "10484196-c0b9-4908-f371-06d1fd656818"
      },
      "outputs": [],
      "source": [
        "# Mount my drive in google colab\n",
        "from google.colab import drive\n",
        "drive.mount('/content/drive')"
      ]
    },
    {
      "cell_type": "code",
      "execution_count": null,
      "metadata": {
        "colab": {
          "base_uri": "https://localhost:8080/"
        },
        "id": "ROZ-Tw5LRgRI",
        "outputId": "c581617c-6dc1-4b43-e3e3-d77b24fed226"
      },
      "outputs": [],
      "source": [
        "# Extract zip file of all Pokemon images\n",
        "from zipfile import ZipFile\n",
        "file_name = \"./drive/MyDrive/pokemon/augmented.zip\"\n",
        "\n",
        "with ZipFile(file_name, 'r') as zip:\n",
        "  zip.extractall()\n",
        "  print('Done')"
      ]
    },
    {
      "cell_type": "code",
      "execution_count": null,
      "metadata": {
        "id": "0UzWwvBgWBMp"
      },
      "outputs": [],
      "source": [
        "pokemon_classes =[\n",
        "    \"Abra\", \"Aerodactyl\", \"Alakazam\", \"Arbok\", \"Arcanine\", \"Articuno\",\n",
        "    \"Beedrill\", \"Bellsprout\", \"Blastoise\", \"Bulbasaur\", \"Butterfree\",\n",
        "    \"Caterpie\", \"Chansey\", \"Charizard\", \"Charmander\", \"Charmeleon\", \"Clefable\",\n",
        "    \"Clefairy\", \"Cloyster\", \"Cubone\",\n",
        "    \"Dewgong\", \"Diglett\", \"Ditto\", \"Dodrio\", \"Doduo\", \"Dragonair\", \"Dragonite\",\n",
        "    \"Dratini\", \"Drowzee\", \"Dugtrio\",\n",
        "    \"Eevee\", \"Ekans\", \"Electabuzz\", \"Electrode\", \"Exeggcute\", \"Exeggutor\",\n",
        "    \"Farfetchd\", \"Fearow\", \"Flareon\", \n",
        "    \"Gastly\", \"Gengar\", \"Geodude\", \"Gloom\", \"Golbat\", \"Goldeen\", \"Golduck\",\n",
        "    \"Golem\", \"Graveler\", \"Grimer\", \"Growlithe\", \"Gyarados\",\n",
        "    \"Haunter\", \"Hitmonchan\", \"Hitmonlee\", \"Horsea\", \"Hypno\", \n",
        "    \"Ivysaur\",\n",
        "    \"Jigglypuff\", \"Jolteon\", \"Jynx\",\n",
        "    \"Kabuto\", \"Kabutops\", \"Kadabra\", \"Kakuna\", \"Kangaskhan\", \"Kingler\", \"Koffing\",\"Krabby\",\n",
        "    \"Lapras\", \"Lickitung\", \n",
        "    \"Machamp\", \"Machoke\", \"Machop\", \"Magikarp\", \"Magmar\", \"Magnemite\", \"Magneton\", \"Mankey\",\n",
        "    \"Marowak\",\"Meowth\", \"Metapod\", \"Mew\", \"Mewtwo\", \"Moltres\", \"MrMime\", \"Muk\",\n",
        "    \"Nidoking\", \"Nidoqueen\", \"Nidoran(Female)\", \"Nidoran(Male)\", \"Nidorina\", \"Nidorino\", \"Ninetales\",\n",
        "    \"Oddish\", \"Omanyte\", \"Omastar\", \"Onix\", \n",
        "    \"Paras\", \"Parasect\", \"Persian\", \"Pidgeot\", \"Pidgeotto\", \"Pidgey\", \"Pikachu\", \"Pinsir\", \"Poliwag\",\n",
        "    \"Poliwhirl\",\"Poliwrath\", \"Ponyta\", \"Porygon\", \"Primeape\", \"Psyduck\",\n",
        "    \"Raichu\", \"Rapidash\", \"Raticate\", \"Rattata\", \"Rhydon\", \"Rhyhorn\",\n",
        "    \"Sandshrew\", \"Sandslash\", \"Scyther\", \"Seadra\", \"Seaking\", \"Seel\", \"Shellder\", \"Slowbro\", \"Slowpoke\",\n",
        "    \"Snorlax\", \"Spearow\", \"Squirtle\", \"Starmie\", \"Staryu\",\n",
        "    \"Tangela\", \"Tauros\", \"Tentacool\", \"Tentacruel\",\n",
        "    \"Vaporeon\", \"Venomoth\", \"Venonat\", \"Venusaur\", \"Victreebel\", \"Vileplume\", \"Voltorb\", \"Vulpix\",\n",
        "    \"Wartortle\", \"Weedle\", \"Weepinbell\", \"Weezing\", \"Wigglytuff\",\n",
        "    \"Zapdos\", \"Zubat\"    \n",
        "]\n"
      ]
    },
    {
      "cell_type": "code",
      "execution_count": null,
      "metadata": {
        "colab": {
          "base_uri": "https://localhost:8080/",
          "height": 364
        },
        "id": "KQifphwaXaxn",
        "outputId": "2f485518-4957-4494-be07-f979996dea69"
      },
      "outputs": [],
      "source": [
        "# Show barchart of number of images in each training class\n",
        "import os\n",
        "import matplotlib.pyplot as plt\n",
        "import seaborn as sns\n",
        "from matplotlib.image import imread\n",
        "import pathlib\n",
        "\n",
        "nimgs = {}\n",
        "for i in range(0,151):\n",
        "    nimages = len(os.listdir('/content/prac_colab/train/'+pokemon_classes[i]+'/'))\n",
        "    nimgs[pokemon_classes[i]]=nimages\n",
        "plt.figure(figsize=(151, 6))\n",
        "plt.bar(range(len(nimgs)), list(nimgs.values()), align='center')\n",
        "plt.xticks(range(len(nimgs)), list(nimgs.keys()))\n",
        "plt.title('Distribution of different classes in Training Dataset')\n",
        "plt.show()"
      ]
    },
    {
      "cell_type": "code",
      "execution_count": null,
      "metadata": {
        "id": "UiIIfv2XX1du"
      },
      "outputs": [],
      "source": [
        "import tensorflow as tf \n",
        "from tensorflow import keras\n",
        "from tensorflow.keras.preprocessing.image import ImageDataGenerator"
      ]
    },
    {
      "cell_type": "code",
      "execution_count": null,
      "metadata": {
        "id": "70MFn9OvYA6p"
      },
      "outputs": [],
      "source": [
        "img_width= 256\n",
        "img_height= 256\n",
        "batch_size=32"
      ]
    },
    {
      "cell_type": "code",
      "execution_count": null,
      "metadata": {
        "colab": {
          "base_uri": "https://localhost:8080/"
        },
        "id": "ZCGSNIGLYOK-",
        "outputId": "fc913696-63dd-4184-c39b-6672fc0ac04c"
      },
      "outputs": [],
      "source": [
        "# Normalize the images in the training folder\n",
        "TRAINING_DIR = '/content/augmented/train/'\n",
        "train_data_gen = ImageDataGenerator(rescale = 1/255.0)\n",
        "\n",
        "train_gen = train_data_gen.flow_from_directory(TRAINING_DIR, batch_size=batch_size, class_mode='categorical',target_size=(img_height, img_width))"
      ]
    },
    {
      "cell_type": "code",
      "execution_count": null,
      "metadata": {
        "colab": {
          "base_uri": "https://localhost:8080/"
        },
        "id": "pC1CIg5tYh7o",
        "outputId": "c392a5ed-b9cc-44e2-9956-22f06efd57a9"
      },
      "outputs": [],
      "source": [
        "# Normalize the images in the validation folder\n",
        "VALIDATION_DIR = '/content/augmented/validate/'\n",
        "validation_data_gen = ImageDataGenerator(rescale = 1/255.0)\n",
        "\n",
        "validation_gen = validation_data_gen.flow_from_directory(VALIDATION_DIR, batch_size=batch_size, class_mode='categorical', target_size=(img_height, img_width))"
      ]
    },
    {
      "cell_type": "code",
      "execution_count": null,
      "metadata": {
        "id": "p3oL8Dv6Y_aU"
      },
      "outputs": [],
      "source": [
        "# autosave best Model\n",
        "callbacks = keras.callbacks.EarlyStopping(monitor='val_loss', patience=5, verbose=1, mode='auto')\n",
        "best_model_file = '/content/CNN_aug_best_weights.h5'\n",
        "best_model = keras.callbacks.ModelCheckpoint(best_model_file, monitor='val_acc', verbose = 1, save_best_only = True)"
      ]
    },
    {
      "cell_type": "code",
      "execution_count": null,
      "metadata": {
        "id": "OwfPLg2ElYdG"
      },
      "outputs": [],
      "source": [
        "kern_size = 3\n",
        "epochs = 10"
      ]
    },
    {
      "cell_type": "code",
      "execution_count": null,
      "metadata": {
        "id": "gSHdJ1c3ZHIY"
      },
      "outputs": [],
      "source": [
        "# Create self-constructed CNN model\n",
        "model = keras.Sequential([\n",
        "    keras.layers.Conv2D(32, kernel_size= kern_size, activation='relu', input_shape=(img_height, img_width, 3)),\n",
        "    keras.layers.MaxPool2D(pool_size = 2),\n",
        "    keras.layers.Conv2D(32, kernel_size= kern_size, activation='relu', input_shape=(img_height, img_width, 3)), \n",
        "    keras.layers.MaxPool2D(pool_size = 2),\n",
        "    keras.layers.Conv2D(32, kernel_size= kern_size, activation='relu', input_shape=(img_height, img_width, 3)), \n",
        "    keras.layers.MaxPool2D(pool_size = 2),\n",
        "    keras.layers.Conv2D(32, kernel_size= kern_size, activation='relu', input_shape=(img_height, img_width, 3)), \n",
        "    keras.layers.MaxPool2D(pool_size = 2),\n",
        "    keras.layers.Flatten(),\n",
        "    keras.layers.Dense(64, activation='relu'),\n",
        "    keras.layers.Dense(15, activation='softmax')\n",
        "])"
      ]
    },
    {
      "cell_type": "code",
      "execution_count": null,
      "metadata": {
        "id": "1NE3cBtQIHgq"
      },
      "outputs": [],
      "source": [
        "from tensorflow.keras.applications import EfficientNetB7, DenseNet201, VGG19, InceptionV3"
      ]
    },
    {
      "cell_type": "code",
      "execution_count": null,
      "metadata": {
        "id": "fQCgsCDtLjIZ"
      },
      "outputs": [],
      "source": [
        "# Setup pre-trained model\n",
        "pretrained_layers = VGG19(include_top = False, weights = 'imagenet', input_shape = (img_height,img_width,3))\n",
        "\n",
        "for layer in pretrained_layers.layers[:19]:\n",
        "    layer.trainable = False"
      ]
    },
    {
      "cell_type": "code",
      "execution_count": null,
      "metadata": {
        "id": "R4_qsr5YH6yT"
      },
      "outputs": [],
      "source": [
        "pretrained_model = keras.Sequential()\n",
        "pretrained_model.add(keras.layers.InputLayer(input_shape=(img_height, img_width, 3)))\n",
        "pretrained_model.add(pretrained_layers)\n",
        "pretrained_model.add(keras.layers.Flatten())\n",
        "pretrained_model.add(keras.layers.Dense(151, activation='softmax'))"
      ]
    },
    {
      "cell_type": "code",
      "execution_count": null,
      "metadata": {
        "id": "k51FWx1uNO3F"
      },
      "outputs": [],
      "source": [
        "optimizer = tf.keras.optimizers.Adam(learning_rate=1e-3)\n",
        "pretrained_model.compile(optimizer=optimizer, loss='categorical_crossentropy', metrics =['accuracy'])"
      ]
    },
    {
      "cell_type": "code",
      "execution_count": null,
      "metadata": {
        "colab": {
          "base_uri": "https://localhost:8080/",
          "height": 506
        },
        "id": "XN1BAfnUNVs4",
        "outputId": "d958ec60-3cb3-4167-f9ca-29fe601aa54a"
      },
      "outputs": [],
      "source": [
        "# Train the pretrained model\n",
        "history_pretrained = pretrained_model.fit(train_gen, epochs=epochs, verbose=1, validation_data=validation_gen, callbacks = [best_model])"
      ]
    },
    {
      "cell_type": "code",
      "execution_count": null,
      "metadata": {
        "id": "hQ2yIS2pZcjn"
      },
      "outputs": [],
      "source": [
        "model.compile(optimizer=optimizer, loss='categorical_crossentropy', metrics =['accuracy'])"
      ]
    },
    {
      "cell_type": "code",
      "execution_count": null,
      "metadata": {
        "colab": {
          "base_uri": "https://localhost:8080/"
        },
        "id": "UEp99WjJZeQ6",
        "outputId": "d409806e-f60f-4367-9242-bcf1e6f342fe"
      },
      "outputs": [],
      "source": [
        "# Train the self-constructed model\n",
        "history = model.fit(train_gen, epochs=epochs, verbose=1, validation_data=validation_gen, callbacks = [best_model])"
      ]
    },
    {
      "cell_type": "code",
      "execution_count": null,
      "metadata": {
        "colab": {
          "base_uri": "https://localhost:8080/"
        },
        "id": "KjJOd1owmdct",
        "outputId": "84a04e86-b91d-4748-c236-50faba8095a7"
      },
      "outputs": [],
      "source": [
        "# Normalize the images in the test set\n",
        "TEST_DIR = '/content/augmented/test/'\n",
        "test_data_gen = ImageDataGenerator(rescale = 1/255.0)\n",
        "\n",
        "test_gen = test_data_gen.flow_from_directory(TEST_DIR, batch_size=batch_size, class_mode='categorical',target_size=(img_height, img_width), shuffle=False)\n"
      ]
    },
    {
      "cell_type": "code",
      "execution_count": null,
      "metadata": {
        "colab": {
          "base_uri": "https://localhost:8080/"
        },
        "id": "85O8kMvoXWcM",
        "outputId": "55bfe2f6-cbdf-462f-bd4d-8a6d8c951f31"
      },
      "outputs": [],
      "source": [
        "# Test self-contructed model on the test set\n",
        "model.evaluate(x=test_gen)"
      ]
    },
    {
      "cell_type": "code",
      "execution_count": null,
      "metadata": {
        "colab": {
          "base_uri": "https://localhost:8080/"
        },
        "id": "ZeeiUeGRPL__",
        "outputId": "0b36f8e8-f8ec-4b01-cc5a-d11ae6525d7d"
      },
      "outputs": [],
      "source": [
        "# Test pretrained model on the test set\n",
        "pretrained_model.evaluate(x=test_gen)"
      ]
    },
    {
      "cell_type": "code",
      "execution_count": null,
      "metadata": {
        "id": "t_B-8T_sX1dQ"
      },
      "outputs": [],
      "source": [
        "# Test models with new random Pokemon image\n",
        "import numpy as np\n",
        "import cv2\n",
        "\n",
        "poke_pic = '/content/charmander.jpg'\n",
        "new_img = cv2.imread(poke_pic)/255.0\n",
        "new_img = cv2.resize(new_img, (img_width, img_height))\n",
        "new_img = np.reshape(new_img, [1, img_width, img_height, 3])"
      ]
    },
    {
      "cell_type": "code",
      "execution_count": null,
      "metadata": {
        "colab": {
          "base_uri": "https://localhost:8080/"
        },
        "id": "hvWo960Gn2CD",
        "outputId": "c45a62e1-f736-4588-f27f-e6dc0668b0a3"
      },
      "outputs": [],
      "source": [
        "model_predictions = model.predict(new_img)\n",
        "print(model_predictions)\n",
        "print(pokemon_classes[np.argmax(model_predictions)])"
      ]
    },
    {
      "cell_type": "code",
      "execution_count": null,
      "metadata": {
        "colab": {
          "base_uri": "https://localhost:8080/"
        },
        "id": "0iPx-Me8oBEb",
        "outputId": "9de64921-9a54-4b1d-f2f3-857dacc5c8f6"
      },
      "outputs": [],
      "source": [
        "pre_predictions = pretrained_model.predict(new_img)\n",
        "print(pre_predictions)\n",
        "print(pokemon_classes[np.argmax(pre_predictions)])"
      ]
    },
    {
      "cell_type": "code",
      "execution_count": null,
      "metadata": {
        "colab": {
          "base_uri": "https://localhost:8080/"
        },
        "id": "LVSeI6u5bTTh",
        "outputId": "08fa298a-8716-4a2e-c01d-64384a93b4f8"
      },
      "outputs": [],
      "source": [
        "# Save the pretrained model\n",
        "pretrained_model.save('/content/151_model_pre_vgg19_10epoch')"
      ]
    },
    {
      "cell_type": "code",
      "execution_count": null,
      "metadata": {
        "colab": {
          "base_uri": "https://localhost:8080/",
          "height": 35
        },
        "id": "baB6X-3Dh6oi",
        "outputId": "ec6cdba9-3e89-4a74-bfe7-c386e6d3506e"
      },
      "outputs": [],
      "source": [
        "# Zip the model files\n",
        "import shutil\n",
        "model_file = '/content/151_model_pre_vgg19_10epoch'\n",
        "\n",
        "shutil.make_archive('151_model_10epoch_vgg19_files', 'zip', model_file)"
      ]
    },
    {
      "cell_type": "code",
      "execution_count": null,
      "metadata": {
        "colab": {
          "base_uri": "https://localhost:8080/"
        },
        "id": "OWYmh6aSAdwS",
        "outputId": "a6ea7c3a-4101-4db3-961b-ff1108540291"
      },
      "outputs": [],
      "source": [
        "# Import the model\n",
        "from zipfile import ZipFile\n",
        "model_file_name = \"./drive/MyDrive/pokemon/151_model_10epoch_vgg19_files.zip\"\n",
        "\n",
        "with ZipFile(model_file_name, 'r') as zip:\n",
        "  zip.extractall()\n",
        "  print('Done')"
      ]
    },
    {
      "cell_type": "code",
      "execution_count": null,
      "metadata": {
        "id": "DlFXpxzOAGzo"
      },
      "outputs": [],
      "source": [
        "# Load the model\n",
        "model_151 = tf.keras.models.load_model('./model_151')"
      ]
    },
    {
      "cell_type": "code",
      "execution_count": null,
      "metadata": {
        "colab": {
          "base_uri": "https://localhost:8080/"
        },
        "id": "yQrt4ltsBrvB",
        "outputId": "1ef0c0a6-8df3-4439-f36f-5c8d54cc3d7e"
      },
      "outputs": [],
      "source": [
        "# Make predictions on the test set\n",
        "vgg19_predictions = model_151.predict_generator(test_gen,650)"
      ]
    },
    {
      "cell_type": "code",
      "execution_count": null,
      "metadata": {
        "colab": {
          "base_uri": "https://localhost:8080/"
        },
        "id": "M9lZ8DgAEiUk",
        "outputId": "8a1ddb93-cb06-495f-9b42-d2e0fda6bf0a"
      },
      "outputs": [
        {
          "name": "stdout",
          "output_type": "stream",
          "text": [
            "                 precision    recall  f1-score   support\n",
            "\n",
            "           Abra       0.99      1.00      1.00       118\n",
            "     Aerodactyl       0.96      0.99      0.98       119\n",
            "       Alakazam       0.93      0.96      0.94       123\n",
            "          Arbok       1.00      0.99      1.00       123\n",
            "       Arcanine       1.00      0.85      0.92       122\n",
            "       Articuno       1.00      0.99      1.00       135\n",
            "       Beedrill       0.98      1.00      0.99       120\n",
            "     Bellsprout       1.00      0.80      0.89       120\n",
            "      Blastoise       0.98      1.00      0.99       126\n",
            "      Bulbasaur       1.00      1.00      1.00       123\n",
            "     Butterfree       1.00      0.99      0.99        96\n",
            "       Caterpie       0.99      1.00      1.00       119\n",
            "        Chansey       0.98      1.00      0.99       129\n",
            "      Charizard       1.00      0.97      0.98       119\n",
            "     Charmander       1.00      1.00      1.00       151\n",
            "     Charmeleon       0.99      1.00      0.99       137\n",
            "       Clefable       1.00      0.97      0.98       123\n",
            "       Clefairy       1.00      1.00      1.00       134\n",
            "       Cloyster       1.00      0.99      1.00       144\n",
            "         Cubone       0.95      0.92      0.93       120\n",
            "        Dewgong       0.96      0.99      0.98       129\n",
            "        Diglett       1.00      0.97      0.98       120\n",
            "          Ditto       1.00      1.00      1.00       120\n",
            "         Dodrio       0.99      0.99      0.99       119\n",
            "          Doduo       0.95      1.00      0.98       118\n",
            "      Dragonair       0.98      1.00      0.99       126\n",
            "      Dragonite       1.00      0.94      0.97       143\n",
            "        Dratini       0.92      1.00      0.96       118\n",
            "        Drowzee       1.00      1.00      1.00       118\n",
            "        Dugtrio       1.00      0.99      1.00       153\n",
            "          Eevee       1.00      1.00      1.00       120\n",
            "          Ekans       0.99      1.00      1.00       119\n",
            "     Electabuzz       0.98      0.99      0.98       123\n",
            "      Electrode       1.00      0.99      1.00       152\n",
            "      Exeggcute       1.00      0.97      0.98       134\n",
            "      Exeggutor       1.00      0.72      0.84       149\n",
            "      Farfetchd       0.99      0.99      0.99       141\n",
            "         Fearow       0.99      1.00      1.00       143\n",
            "        Flareon       0.96      1.00      0.98       135\n",
            "         Gastly       1.00      1.00      1.00       132\n",
            "         Gengar       1.00      1.00      1.00       146\n",
            "        Geodude       1.00      0.99      1.00       119\n",
            "          Gloom       0.99      1.00      1.00       143\n",
            "         Golbat       1.00      0.98      0.99       144\n",
            "        Goldeen       1.00      0.98      0.99       141\n",
            "        Golduck       1.00      0.93      0.97       138\n",
            "          Golem       1.00      1.00      1.00       138\n",
            "       Graveler       1.00      1.00      1.00       120\n",
            "         Grimer       1.00      0.97      0.98       132\n",
            "      Growlithe       0.96      1.00      0.98       131\n",
            "       Gyarados       0.96      0.99      0.98       138\n",
            "        Haunter       0.99      1.00      1.00       143\n",
            "     Hitmonchan       1.00      0.99      0.99       141\n",
            "      Hitmonlee       0.98      1.00      0.99       143\n",
            "         Horsea       1.00      0.96      0.98       161\n",
            "          Hypno       1.00      0.99      0.99       141\n",
            "        Ivysaur       0.99      1.00      1.00       120\n",
            "     Jigglypuff       1.00      1.00      1.00       138\n",
            "        Jolteon       0.99      1.00      1.00       151\n",
            "           Jynx       0.98      1.00      0.99       146\n",
            "         Kabuto       1.00      0.99      0.99       146\n",
            "       Kabutops       0.91      1.00      0.95       125\n",
            "        Kadabra       0.99      0.92      0.95       146\n",
            "         Kakuna       1.00      0.94      0.97       139\n",
            "     Kangaskhan       1.00      1.00      1.00       151\n",
            "        Kingler       0.98      0.99      0.99       140\n",
            "        Koffing       0.98      1.00      0.99       142\n",
            "         Krabby       0.99      0.98      0.99       142\n",
            "         Lapras       1.00      1.00      1.00       157\n",
            "      Lickitung       1.00      0.98      0.99       144\n",
            "        Machamp       1.00      1.00      1.00       158\n",
            "        Machoke       1.00      1.00      1.00       126\n",
            "         Machop       0.97      1.00      0.98       120\n",
            "       Magikarp       1.00      1.00      1.00       132\n",
            "         Magmar       1.00      1.00      1.00       130\n",
            "      Magnemite       1.00      0.99      0.99       137\n",
            "       Magneton       1.00      1.00      1.00       122\n",
            "         Mankey       0.96      0.96      0.96       164\n",
            "        Marowak       0.85      0.94      0.89        96\n",
            "         Meowth       1.00      1.00      1.00       119\n",
            "        Metapod       1.00      1.00      1.00       158\n",
            "            Mew       1.00      0.97      0.99       159\n",
            "         Mewtwo       1.00      1.00      1.00       155\n",
            "        Moltres       0.99      0.98      0.98       129\n",
            "         MrMime       1.00      1.00      1.00       135\n",
            "            Muk       0.96      1.00      0.98       126\n",
            "       Nidoking       1.00      0.99      1.00       155\n",
            "      Nidoqueen       0.99      0.99      0.99       153\n",
            "Nidoran(Female)       1.00      0.97      0.98       119\n",
            "  Nidoran(Male)       0.97      0.97      0.97       119\n",
            "       Nidorina       0.96      0.99      0.98       122\n",
            "       Nidorino       0.98      0.98      0.98       153\n",
            "      Ninetales       0.94      1.00      0.97       131\n",
            "         Oddish       0.99      1.00      1.00       152\n",
            "        Omanyte       1.00      1.00      1.00       135\n",
            "        Omastar       1.00      0.98      0.99       128\n",
            "           Onix       0.99      0.98      0.99       123\n",
            "          Paras       0.99      1.00      0.99       139\n",
            "       Parasect       1.00      0.98      0.99       129\n",
            "        Persian       0.99      0.99      0.99       120\n",
            "        Pidgeot       1.00      0.87      0.93       128\n",
            "      Pidgeotto       0.83      1.00      0.90       118\n",
            "         Pidgey       0.99      1.00      0.99       143\n",
            "        Pikachu       1.00      1.00      1.00       186\n",
            "         Pinsir       1.00      1.00      1.00       122\n",
            "        Poliwag       1.00      1.00      1.00       153\n",
            "      Poliwhirl       0.93      1.00      0.96       148\n",
            "      Poliwrath       1.00      0.90      0.95       120\n",
            "         Ponyta       0.99      0.99      0.99       134\n",
            "        Porygon       1.00      1.00      1.00       138\n",
            "       Primeape       0.98      0.92      0.95       153\n",
            "        Psyduck       0.98      1.00      0.99       119\n",
            "         Raichu       0.99      0.99      0.99       153\n",
            "       Rapidash       0.97      0.99      0.98       143\n",
            "       Raticate       0.96      1.00      0.98       123\n",
            "        Rattata       0.99      1.00      1.00       129\n",
            "         Rhydon       1.00      0.97      0.99       150\n",
            "        Rhyhorn       1.00      0.98      0.99       123\n",
            "      Sandshrew       1.00      0.99      1.00       137\n",
            "      Sandslash       0.99      1.00      0.99       134\n",
            "        Scyther       0.99      1.00      0.99       169\n",
            "         Seadra       0.95      1.00      0.98       141\n",
            "        Seaking       1.00      0.99      1.00       138\n",
            "           Seel       0.99      0.97      0.98       144\n",
            "       Shellder       0.99      1.00      1.00       135\n",
            "        Slowbro       0.99      0.99      0.99       137\n",
            "       Slowpoke       1.00      0.99      1.00       123\n",
            "        Snorlax       0.88      1.00      0.94       175\n",
            "        Spearow       0.81      1.00      0.90       163\n",
            "       Squirtle       1.00      1.00      1.00       154\n",
            "        Starmie       1.00      1.00      1.00       144\n",
            "         Staryu       1.00      1.00      1.00       141\n",
            "        Tangela       1.00      0.97      0.99       159\n",
            "         Tauros       0.99      0.99      0.99       162\n",
            "      Tentacool       0.99      0.99      0.99       135\n",
            "     Tentacruel       1.00      1.00      1.00       141\n",
            "       Vaporeon       0.99      0.99      0.99       174\n",
            "       Venomoth       0.99      1.00      0.99       154\n",
            "        Venonat       0.99      0.99      0.99       140\n",
            "       Venusaur       0.97      1.00      0.98       194\n",
            "     Victreebel       1.00      0.99      1.00       145\n",
            "      Vileplume       1.00      0.99      1.00       167\n",
            "        Voltorb       1.00      1.00      1.00       164\n",
            "         Vulpix       1.00      0.91      0.95       148\n",
            "      Wartortle       1.00      0.99      0.99       143\n",
            "         Weedle       0.99      0.99      0.99       146\n",
            "     Weepinbell       0.96      1.00      0.98       129\n",
            "        Weezing       1.00      0.99      1.00       150\n",
            "     Wigglytuff       1.00      1.00      1.00       171\n",
            "         Zapdos       1.00      1.00      1.00       151\n",
            "          Zubat       0.95      1.00      0.98       120\n",
            "\n",
            "       accuracy                           0.98     20774\n",
            "      macro avg       0.99      0.98      0.98     20774\n",
            "   weighted avg       0.99      0.98      0.98     20774\n",
            "\n"
          ]
        }
      ],
      "source": [
        "# Create confusion matrix and print out the classification report for all of the classes based on the test set\n",
        "from sklearn.metrics import confusion_matrix, classification_report\n",
        "import numpy as np\n",
        "\n",
        "y_predictions = np.argmax(vgg19_predictions, axis=1)\n",
        "matrix = confusion_matrix(test_gen.classes, y_predictions)\n",
        "class_report = classification_report(test_gen.classes, y_predictions,target_names=pokemon_classes)\n",
        "print(class_report)"
      ]
    },
    {
      "cell_type": "code",
      "execution_count": null,
      "metadata": {
        "colab": {
          "base_uri": "https://localhost:8080/"
        },
        "id": "Fnyqsc6JMjLb",
        "outputId": "1bdf91f1-e146-4730-8a92-139f8e7ede0c"
      },
      "outputs": [],
      "source": [
        "# Print out number of false positives, false negatives, true postives and true negatives\n",
        "FP = matrix.sum(axis=0) - np.diag(matrix)  \n",
        "FN = matrix.sum(axis=1) - np.diag(matrix)\n",
        "TP = np.diag(matrix)\n",
        "TN = matrix.sum() - (FP + FN + TP)\n",
        "\n",
        "print(\"False Positives: \"+str(FP))\n",
        "print(\"False Negatives: \"+str(FN))\n",
        "print(\"True Positives: \"+str(TP))\n",
        "print(\"True Negatives: \"+str(TN))"
      ]
    },
    {
      "cell_type": "code",
      "execution_count": null,
      "metadata": {
        "colab": {
          "base_uri": "https://localhost:8080/"
        },
        "id": "SpCwhrDlXZUF",
        "outputId": "30cf1069-6d73-4dde-d7ca-bfd02829af6e"
      },
      "outputs": [
        {
          "name": "stdout",
          "output_type": "stream",
          "text": [
            "Pidgeot\n",
            "Pidgeotto\n",
            "12\n"
          ]
        }
      ],
      "source": [
        "# Most common Pokemon class labeling mistake (True class, Incorrect Label used, number of occurrences)\n",
        "max_value = -1\n",
        "x_coord = -1\n",
        "y_coord = -1\n",
        "for i in range(0, matrix.shape[0]):\n",
        "  for j in range(0, matrix.shape[1]):\n",
        "    if i != j:\n",
        "      if matrix[i][j] > max_value:\n",
        "        max_value = matrix[i][j]\n",
        "        x_coord = i\n",
        "        y_coord = j\n",
        "\n",
        "print(pokemon_classes[x_coord])\n",
        "print(pokemon_classes[y_coord])\n",
        "print(max_value)"
      ]
    },
    {
      "cell_type": "code",
      "execution_count": null,
      "metadata": {
        "colab": {
          "base_uri": "https://localhost:8080/"
        },
        "id": "5OsqzAScZEbC",
        "outputId": "ef322533-5eaa-42ca-b196-d296ad188b74"
      },
      "outputs": [
        {
          "name": "stdout",
          "output_type": "stream",
          "text": [
            "Exeggutor\n",
            "42\n"
          ]
        }
      ],
      "source": [
        "# Print out the Pokemon classs with the highest number of incorrect predictions made for it (Class, number of incorrect predictions)\n",
        "x_row = -1\n",
        "max_x_row = -1\n",
        "for i in range(0, matrix.shape[0]):\n",
        "  row_sum = matrix[i].sum()\n",
        "  wrong_sum = row_sum - matrix[i][i]\n",
        "\n",
        "  if wrong_sum > max_x_row:\n",
        "    x_row = i\n",
        "    max_x_row = wrong_sum\n",
        "\n",
        "print(pokemon_classes[x_row])\n",
        "print(max_x_row) "
      ]
    },
    {
      "cell_type": "code",
      "execution_count": null,
      "metadata": {
        "colab": {
          "base_uri": "https://localhost:8080/"
        },
        "id": "U6D3VnazbAt2",
        "outputId": "95c84e80-08f8-4189-de3f-d423cb7b6f6e"
      },
      "outputs": [
        {
          "name": "stdout",
          "output_type": "stream",
          "text": [
            "[119 123 127 122 104 134 122  96 128 123  95 120 131 115 151 139 119 134\n",
            " 143 116 133 116 120 119 124 128 134 128 118 152 120 120 125 151 130 107\n",
            " 142 144 140 132 146 118 144 141 138 129 138 120 128 136 143 144 139 146\n",
            " 154 139 121 138 152 149 144 137 137 130 151 142 145 140 157 141 158 126\n",
            " 124 132 130 135 122 164 106 119 158 155 155 127 135 131 154 154 115 118\n",
            " 126 153 139 153 135 126 122 141 127 120 111 143 145 186 122 153 159 108\n",
            " 133 138 143 121 154 147 128 130 146 121 136 136 171 148 137 141 136 137\n",
            " 122 199 201 154 144 141 155 163 135 141 174 156 141 200 144 166 164 135\n",
            " 141 146 134 149 171 151 126]\n",
            "Spearow\n",
            "38\n",
            "201\n"
          ]
        }
      ],
      "source": [
        "# Print out the Pokemon class label used for the most number of incorrect predictions\n",
        "y_col = -1\n",
        "max_y_col = -1\n",
        "summed_columns = np.sum(matrix, axis=0)\n",
        "for i in range(0, matrix.shape[1]):\n",
        "  row_sum = summed_columns[i]\n",
        "  wrong_sum = row_sum - matrix[i][i]\n",
        "\n",
        "  if wrong_sum > max_y_col:\n",
        "    y_col = i\n",
        "    max_y_col = wrong_sum\n",
        "\n",
        "print(summed_columns)\n",
        "print(pokemon_classes[y_col])\n",
        "print(max_y_col)\n",
        "print(summed_columns[y_col])\n"
      ]
    }
  ],
  "metadata": {
    "accelerator": "GPU",
    "colab": {
      "gpuType": "A100",
      "provenance": []
    },
    "gpuClass": "standard",
    "kernelspec": {
      "display_name": "Python 3",
      "name": "python3"
    },
    "language_info": {
      "name": "python"
    }
  },
  "nbformat": 4,
  "nbformat_minor": 0
}
